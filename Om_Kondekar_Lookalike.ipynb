{
  "nbformat": 4,
  "nbformat_minor": 0,
  "metadata": {
    "colab": {
      "provenance": []
    },
    "kernelspec": {
      "name": "python3",
      "display_name": "Python 3"
    },
    "language_info": {
      "name": "python"
    }
  },
  "cells": [
    {
      "cell_type": "markdown",
      "source": [
        "# Import necessary libraries\n",
        "\n"
      ],
      "metadata": {
        "id": "hH6QMse7mTvT"
      }
    },
    {
      "cell_type": "code",
      "source": [
        "import pandas as pd\n",
        "from sklearn.preprocessing import MinMaxScaler\n",
        "from sklearn.metrics.pairwise import cosine_similarity\n"
      ],
      "metadata": {
        "id": "dTYj5jwxmVLD"
      },
      "execution_count": 1,
      "outputs": []
    },
    {
      "cell_type": "markdown",
      "source": [
        "# Load datasets"
      ],
      "metadata": {
        "id": "sqE9v6ynmwSZ"
      }
    },
    {
      "cell_type": "code",
      "source": [
        "customers = pd.read_csv('Customers.csv')\n",
        "transactions = pd.read_csv('Transactions.csv')\n",
        "\n"
      ],
      "metadata": {
        "id": "HyQm3XMcmxMl"
      },
      "execution_count": 2,
      "outputs": []
    },
    {
      "cell_type": "markdown",
      "source": [
        "# Aggregate transaction data for each customer\n"
      ],
      "metadata": {
        "id": "gu080ZZ6m44Y"
      }
    },
    {
      "cell_type": "code",
      "source": [
        "customer_transactions = transactions.groupby('CustomerID').agg({\n",
        "    'TotalValue': 'sum',\n",
        "    'Quantity': 'sum'\n",
        "}).reset_index()\n"
      ],
      "metadata": {
        "id": "pXlbNLAPm6BC"
      },
      "execution_count": 3,
      "outputs": []
    },
    {
      "cell_type": "markdown",
      "source": [
        "# Merge with customer data"
      ],
      "metadata": {
        "id": "6Ok96Zi6nEGU"
      }
    },
    {
      "cell_type": "code",
      "source": [
        "customer_data = pd.merge(customers, customer_transactions, on='CustomerID', how='left').fillna(0)\n",
        "\n"
      ],
      "metadata": {
        "id": "R3pkj4Aem-E7"
      },
      "execution_count": 4,
      "outputs": []
    },
    {
      "cell_type": "markdown",
      "source": [
        "# Normalize numeric columns for similarity calculation\n"
      ],
      "metadata": {
        "id": "O5THEK67nOS5"
      }
    },
    {
      "cell_type": "code",
      "source": [
        "scaler = MinMaxScaler()\n",
        "numeric_cols = ['TotalValue', 'Quantity']\n",
        "customer_data[numeric_cols] = scaler.fit_transform(customer_data[numeric_cols])\n",
        "\n"
      ],
      "metadata": {
        "id": "n-mJdfaanKSx"
      },
      "execution_count": 5,
      "outputs": []
    },
    {
      "cell_type": "markdown",
      "source": [
        "# Compute cosine similarity\n"
      ],
      "metadata": {
        "id": "3dUxUAVznV6v"
      }
    },
    {
      "cell_type": "code",
      "source": [
        "similarity_matrix = cosine_similarity(customer_data[numeric_cols])\n",
        "similarity_df = pd.DataFrame(similarity_matrix, index=customer_data['CustomerID'], columns=customer_data['CustomerID'])\n"
      ],
      "metadata": {
        "id": "j1w2YeBQnTKE"
      },
      "execution_count": 6,
      "outputs": []
    },
    {
      "cell_type": "markdown",
      "source": [
        "# Recommend top 3 similar customers for the first 20 customers\n"
      ],
      "metadata": {
        "id": "s50vzdoEneWL"
      }
    },
    {
      "cell_type": "code",
      "source": [
        "lookalike_results = {}\n",
        "for customer in customer_data['CustomerID'][:20]:\n",
        "    similar_customers = similarity_df[customer].sort_values(ascending=False)[1:4]  # Exclude itself\n",
        "    lookalike_results[customer] = list(zip(similar_customers.index, similar_customers.values))\n"
      ],
      "metadata": {
        "id": "Wg9v_Mkvnb3l"
      },
      "execution_count": 7,
      "outputs": []
    },
    {
      "cell_type": "markdown",
      "source": [
        "# Save the results to a CSV file\n"
      ],
      "metadata": {
        "id": "BCkTW2pHnmKJ"
      }
    },
    {
      "cell_type": "code",
      "source": [
        "lookalike_df = pd.DataFrame({\n",
        "    'CustomerID': lookalike_results.keys(),\n",
        "    'Lookalikes': [v for v in lookalike_results.values()]\n",
        "})\n",
        "lookalike_df.to_csv('Lookalike.csv', index=False)\n",
        "\n",
        "print(\"Lookalike recommendations saved to Lookalike.csv.\")"
      ],
      "metadata": {
        "colab": {
          "base_uri": "https://localhost:8080/"
        },
        "id": "h_MdRbi2njZN",
        "outputId": "672a7822-ed64-491a-8562-9d4e8ef0a4ef"
      },
      "execution_count": 8,
      "outputs": [
        {
          "output_type": "stream",
          "name": "stdout",
          "text": [
            "Lookalike recommendations saved to Lookalike.csv.\n"
          ]
        }
      ]
    }
  ]
}